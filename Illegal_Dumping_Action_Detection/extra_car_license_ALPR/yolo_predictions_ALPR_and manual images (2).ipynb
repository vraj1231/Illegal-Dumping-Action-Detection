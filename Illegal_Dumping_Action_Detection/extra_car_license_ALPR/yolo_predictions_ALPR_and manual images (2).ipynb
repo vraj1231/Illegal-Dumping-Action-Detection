{
 "cells": [
  {
   "cell_type": "code",
   "execution_count": 1,
   "id": "5ebabc7a",
   "metadata": {
    "ExecuteTime": {
     "end_time": "2022-09-22T22:43:55.770963Z",
     "start_time": "2022-09-22T22:43:54.679627Z"
    }
   },
   "outputs": [],
   "source": [
    "import cv2\n",
    "import numpy as np\n",
    "import os\n",
    "import pytesseract as pt\n",
    "import matplotlib.pyplot as plt\n",
    "from PIL import Image"
   ]
  },
  {
   "cell_type": "code",
   "execution_count": 2,
   "id": "5dbf5af6",
   "metadata": {
    "ExecuteTime": {
     "end_time": "2022-09-22T22:43:55.786693Z",
     "start_time": "2022-09-22T22:43:55.770963Z"
    }
   },
   "outputs": [],
   "source": [
    "pt.pytesseract.tesseract_cmd = r\"C:\\Users\\mistr\\AppData\\Local\\Programs\\Tesseract-OCR\\tesseract.exe\""
   ]
  },
  {
   "cell_type": "code",
   "execution_count": 3,
   "id": "5b8fddd6",
   "metadata": {
    "ExecuteTime": {
     "end_time": "2022-09-22T22:43:55.802654Z",
     "start_time": "2022-09-22T22:43:55.788656Z"
    }
   },
   "outputs": [],
   "source": [
    "# settings\n",
    "INPUT_WIDTH =  640\n",
    "INPUT_HEIGHT = 640\n",
    "cap_arr = []"
   ]
  },
  {
   "cell_type": "code",
   "execution_count": 4,
   "id": "10dba39c",
   "metadata": {
    "ExecuteTime": {
     "end_time": "2022-09-22T22:43:55.818654Z",
     "start_time": "2022-09-22T22:43:55.803658Z"
    }
   },
   "outputs": [],
   "source": [
    "# LOAD THE IMAGE\n",
    "# img = cv2.imread(r\"C:\\Users\\mistr\\Downloads\\Module_4_YoloV5\\test_images\\getty_sample.jpg\")\n",
    "\n",
    "# cv2.namedWindow('test image',cv2.WINDOW_KEEPRATIO)\n",
    "# cv2.imshow('test image',img)\n",
    "# cv2.waitKey()\n",
    "# cv2.destroyAllWindows()"
   ]
  },
  {
   "cell_type": "code",
   "execution_count": 5,
   "id": "922f0528",
   "metadata": {
    "ExecuteTime": {
     "end_time": "2022-09-22T22:43:55.898690Z",
     "start_time": "2022-09-22T22:43:55.819654Z"
    }
   },
   "outputs": [],
   "source": [
    "# LOAD YOLO MODEL\n",
    "net = cv2.dnn.readNetFromONNX(r\"C:\\Users\\mistr\\yolov5\\runs\\train\\vehicle_pretrained_exp1_epoch50\\weights\\best.onnx\")\n",
    "net.setPreferableBackend(cv2.dnn.DNN_BACKEND_OPENCV)\n",
    "net.setPreferableTarget(cv2.dnn.DNN_TARGET_CPU)"
   ]
  },
  {
   "cell_type": "code",
   "execution_count": 13,
   "id": "dd8430da",
   "metadata": {
    "ExecuteTime": {
     "end_time": "2022-09-23T05:58:41.825493Z",
     "start_time": "2022-09-23T05:58:41.796496Z"
    }
   },
   "outputs": [],
   "source": [
    "def get_detections(img,net):\n",
    "    # CONVERT IMAGE TO YOLO FORMAT\n",
    "    image = img.copy()\n",
    "    row, col, d = image.shape\n",
    "\n",
    "    max_rc = max(row,col)\n",
    "    input_image = np.zeros((max_rc,max_rc,3),dtype=np.uint8)\n",
    "    input_image[0:row,0:col] = image\n",
    "\n",
    "    # GET PREDICTION FROM YOLO MODEL\n",
    "    blob = cv2.dnn.blobFromImage(input_image,1/255,(INPUT_WIDTH,INPUT_HEIGHT),swapRB=True,crop=False)\n",
    "    net.setInput(blob)\n",
    "    preds = net.forward()\n",
    "    detections = preds[0]\n",
    "    \n",
    "    return input_image, detections\n",
    "\n",
    "def non_maximum_supression(input_image,detections):\n",
    "    # FILTER DETECTIONS BASED ON CONFIDENCE AND PROBABILIY SCORE\n",
    "    # center x, center y, w , h, conf, proba\n",
    "    boxes = []\n",
    "    confidences = []\n",
    "\n",
    "    image_w, image_h = input_image.shape[:2]\n",
    "    x_factor = image_w/INPUT_WIDTH\n",
    "    y_factor = image_h/INPUT_HEIGHT\n",
    "\n",
    "    for i in range(len(detections)):\n",
    "        row = detections[i]\n",
    "        confidence = row[4] # confidence of detecting license plate\n",
    "        if confidence > 0.4:\n",
    "            class_score = row[5] # probability score of license plate\n",
    "            if class_score > 0.25:\n",
    "                cx, cy , w, h = row[0:4]\n",
    "\n",
    "                left = int((cx - 0.5*w)*x_factor)\n",
    "                top = int((cy-0.5*h)*y_factor)\n",
    "                width = int(w*x_factor)\n",
    "                height = int(h*y_factor)\n",
    "                box = np.array([left,top,width,height])\n",
    "\n",
    "                confidences.append(confidence)\n",
    "                boxes.append(box)\n",
    "\n",
    "    # clean\n",
    "    boxes_np = np.array(boxes).tolist()\n",
    "    confidences_np = np.array(confidences).tolist()\n",
    "    # NMS\n",
    "    index = np.array(cv2.dnn.NMSBoxes(boxes_np,confidences_np,0.25,0.45)).flatten()\n",
    "    \n",
    "    return boxes_np, confidences_np, index\n",
    "\n",
    "\n",
    "\n",
    "\n",
    "def drawings(image,boxes_np,confidences_np,index):\n",
    "    # drawings\n",
    "    for ind in index:\n",
    "        x,y,w,h =  boxes_np[ind]\n",
    "        bb_conf = confidences_np[ind]\n",
    "        conf_text = 'plate: {:.0f}%'.format(bb_conf*100)\n",
    "        license_text = extract_text(image,boxes_np[ind])\n",
    "        cap_arr.append(license_text)\n",
    "        \n",
    "\n",
    "\n",
    "        cv2.rectangle(image,(x,y),(x+w,y+h),(255,0,255),2)\n",
    "        cv2.rectangle(image,(x,y-30),(x+w,y),(255,0,255),-1)\n",
    "        cv2.rectangle(image,(x,y+h),(x+w,y+h+30),(0,0,0),-1)\n",
    "\n",
    "\n",
    "        cv2.putText(image,conf_text,(x,y-10),cv2.FONT_HERSHEY_SIMPLEX,0.7,(255,255,255),1)\n",
    "        cv2.putText(image,license_text,(x,y+h+27),cv2.FONT_HERSHEY_SIMPLEX,0.7,(0,255,0),1)\n",
    "\n",
    "    return image"
   ]
  },
  {
   "cell_type": "code",
   "execution_count": 7,
   "id": "f536e37e",
   "metadata": {
    "ExecuteTime": {
     "end_time": "2022-09-22T22:43:55.930654Z",
     "start_time": "2022-09-22T22:43:55.915665Z"
    }
   },
   "outputs": [],
   "source": [
    "# predictions\n",
    "def yolo_predictions(img,net):\n",
    "    ## step-1: detections\n",
    "    input_image, detections = get_detections(img,net)\n",
    "    ## step-2: NMS\n",
    "    boxes_np, confidences_np, index = non_maximum_supression(input_image, detections)\n",
    "    ## step-3: Drawings\n",
    "    result_img = drawings(img,boxes_np,confidences_np,index)\n",
    "    return result_img"
   ]
  },
  {
   "cell_type": "code",
   "execution_count": 8,
   "id": "7c6cbfd8",
   "metadata": {
    "ExecuteTime": {
     "end_time": "2022-09-22T22:43:55.946653Z",
     "start_time": "2022-09-22T22:43:55.931656Z"
    }
   },
   "outputs": [],
   "source": [
    "def extract_text(image,bbox):\n",
    "    img_rgb = cv2.cvtColor(image, cv2.COLOR_BGR2RGB)\n",
    "    x,y,w,h = bbox\n",
    "    roi = img_rgb[y:y+h, x:x+w]\n",
    "\n",
    "    \n",
    "    print\n",
    "    if 0 in roi.shape:\n",
    "        return ''\n",
    "    \n",
    "    else:\n",
    "#         plt.imshow(roi)\n",
    "        text = pt.image_to_string(roi,lang ='eng',config ='--oem 3 --psm 7 -c tessedit_char_whitelist=ABCDEFGHIJKLMNOPQRSTUVWXYZ0123456789')\n",
    "        text = text.strip()\n",
    "        \n",
    "        return text"
   ]
  },
  {
   "cell_type": "code",
   "execution_count": 1,
   "id": "a4ea6d7c",
   "metadata": {
    "ExecuteTime": {
     "end_time": "2022-10-13T22:30:33.155939Z",
     "start_time": "2022-10-13T22:30:33.151568Z"
    }
   },
   "outputs": [],
   "source": [
    "# test\n",
    "img = cv2.imread(r\"C:\\Users\\mistr\\Downloads\\Vehicle Registration Plates.v2-licenseplatedatasetv1.yolov5pytorch\\test\\images\\CarLongPlate343_jpg.rf.8ff8430b110e362f721de105423b51a0.jpg\")\n",
    "\n",
    "results = yolo_predictions(img,net)"
   ]
  },
  {
   "cell_type": "code",
   "execution_count": 10,
   "id": "ccaf271d",
   "metadata": {
    "ExecuteTime": {
     "end_time": "2022-09-22T22:44:00.223881Z",
     "start_time": "2022-09-22T22:43:56.311654Z"
    }
   },
   "outputs": [],
   "source": [
    "cv2.namedWindow('results',cv2.WINDOW_KEEPRATIO)\n",
    "cv2.imshow('results',results)\n",
    "cv2.waitKey()\n",
    "cv2.destroyAllWindows()"
   ]
  },
  {
   "cell_type": "code",
   "execution_count": 11,
   "id": "caee5b01",
   "metadata": {
    "ExecuteTime": {
     "end_time": "2022-09-22T22:44:00.238884Z",
     "start_time": "2022-09-22T22:44:00.224882Z"
    }
   },
   "outputs": [
    {
     "data": {
      "text/plain": [
       "['5IF73029']"
      ]
     },
     "execution_count": 11,
     "metadata": {},
     "output_type": "execute_result"
    }
   ],
   "source": [
    "cap_arr"
   ]
  },
  {
   "cell_type": "markdown",
   "id": "d89ed4c5",
   "metadata": {},
   "source": [
    "### Real Time Object Detection"
   ]
  },
  {
   "cell_type": "code",
   "execution_count": 12,
   "id": "f24ea4a0",
   "metadata": {
    "ExecuteTime": {
     "end_time": "2022-09-22T22:44:00.269881Z",
     "start_time": "2022-09-22T22:44:00.240885Z"
    }
   },
   "outputs": [
    {
     "name": "stdout",
     "output_type": "stream",
     "text": [
      "unable to read video\n"
     ]
    }
   ],
   "source": [
    "cap = cv2.VideoCapture()\n",
    "\n",
    "\n",
    "\n",
    "while True:\n",
    "    ret, frame = cap.read()\n",
    "    \n",
    "    if ret == False:\n",
    "        print('unable to read video')\n",
    "        break\n",
    "        \n",
    "    results = yolo_predictions(frame,net)\n",
    "    \n",
    "    cv2.namedWindow('YOLO',cv2.WINDOW_KEEPRATIO)\n",
    "    cv2.imshow('YOLO',results)\n",
    "    cv2.imshow(\"YOLO\", results)\n",
    "    if cv2.waitKey(1) == 27:\n",
    "        break\n",
    "        \n",
    "cv2.destroyAllWindows()\n",
    "cap.release()"
   ]
  },
  {
   "cell_type": "code",
   "execution_count": null,
   "id": "43d767aa",
   "metadata": {},
   "outputs": [],
   "source": []
  },
  {
   "cell_type": "code",
   "execution_count": null,
   "id": "33f555dd",
   "metadata": {},
   "outputs": [],
   "source": []
  },
  {
   "cell_type": "code",
   "execution_count": null,
   "id": "334df62b",
   "metadata": {},
   "outputs": [],
   "source": []
  },
  {
   "cell_type": "code",
   "execution_count": null,
   "id": "8c7b1fd7",
   "metadata": {},
   "outputs": [],
   "source": []
  },
  {
   "cell_type": "code",
   "execution_count": null,
   "id": "9a1b4192",
   "metadata": {},
   "outputs": [],
   "source": []
  },
  {
   "cell_type": "code",
   "execution_count": null,
   "id": "7f27b571",
   "metadata": {},
   "outputs": [],
   "source": []
  },
  {
   "cell_type": "code",
   "execution_count": null,
   "id": "35601036",
   "metadata": {},
   "outputs": [],
   "source": []
  },
  {
   "cell_type": "code",
   "execution_count": null,
   "id": "08266d2f",
   "metadata": {},
   "outputs": [],
   "source": []
  }
 ],
 "metadata": {
  "kernelspec": {
   "display_name": "Yolo_kernel_torch",
   "language": "python",
   "name": "yolo"
  },
  "language_info": {
   "codemirror_mode": {
    "name": "ipython",
    "version": 3
   },
   "file_extension": ".py",
   "mimetype": "text/x-python",
   "name": "python",
   "nbconvert_exporter": "python",
   "pygments_lexer": "ipython3",
   "version": "3.9.12"
  }
 },
 "nbformat": 4,
 "nbformat_minor": 5
}
